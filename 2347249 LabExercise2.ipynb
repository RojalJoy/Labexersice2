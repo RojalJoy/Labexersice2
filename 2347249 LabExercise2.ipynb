{
 "cells": [
  {
   "cell_type": "code",
   "execution_count": 1,
   "metadata": {},
   "outputs": [
    {
     "name": "stdout",
     "output_type": "stream",
     "text": [
      "['AC3', 'BlackFlag', 'Farcry3']\n",
      "['AC3', 'BlackFlag', 'games', 'Farcry3']\n",
      "['AC3', 'BlackFlag', 'games', 'Farcry3', 'Bioshock']\n",
      "['AC3', 'BlackFlag', 'games', 'Farcry3', 'Bioshock', 'Bioshock2']\n",
      "['AC3', 'BlackFlag', 'games', 'Farcry3', 'Bioshock', 'Bioshock2', {1: 'AC'}]\n",
      "['AC3', 'BlackFlag', 'games', 'Farcry3', 'Bioshock', 'Bioshock2', {1: 'AC'}, {'AC2'}]\n"
     ]
    }
   ],
   "source": [
    "domain=[\"AC3\",\"BlackFlag\"]\n",
    "\n",
    "domain.append(\"Farcry3\")\n",
    "print(domain)\n",
    "\n",
    "domain.insert(2,\"games\")\n",
    "print(domain)\n",
    "\n",
    "more=[\"Bioshock\"]\n",
    "domain.extend(more)\n",
    "print(domain)\n",
    "\n",
    "tuple=(\"Bioshock2\")\n",
    "domain.append(tuple)\n",
    "print(domain)\n",
    "\n",
    "diction={1:'AC'}\n",
    "domain.append(diction)\n",
    "print(domain)\n",
    "\n",
    "setss={\"AC2\"}\n",
    "domain.append(setss)\n",
    "print(domain)"
   ]
  },
  {
   "cell_type": "code",
   "execution_count": 9,
   "metadata": {},
   "outputs": [
    {
     "name": "stdout",
     "output_type": "stream",
     "text": [
      "[1, 2, 3, 4]\n",
      "10\n",
      "1\n"
     ]
    }
   ],
   "source": [
    "numer=[1,2,3,4]\n",
    "\n",
    "temp=numer[0]\n",
    "numer[0]=numer[3]\n",
    "numer[0]=temp\n",
    "print(numer)\n",
    "\n",
    "add=sum(numer)\n",
    "print(add)\n",
    "\n",
    "small=min(numer)\n",
    "print(small)\n"
   ]
  },
  {
   "cell_type": "code",
   "execution_count": 10,
   "metadata": {},
   "outputs": [
    {
     "name": "stdout",
     "output_type": "stream",
     "text": [
      "Sorted List of Dictionaries in the ascending Order of Keys : \n",
      "{'a': 5, 'b': 10, 'c': 15}\n",
      "{'d': 20, 'e': 25, 'f': 30}\n",
      "{'g': 35, 'h': 40, 'k': 45}\n"
     ]
    }
   ],
   "source": [
    "dict_list =[{'a': 5, 'b': 10, 'c': 15},{'g': 35, 'h': 40, 'k': 45},{'d': 20,'e': 25, 'f': 30}]\n",
    "ascsort = sorted(dict_list, key=lambda d: list(d.keys())[0])\n",
    "print(\"Sorted List of Dictionaries in the ascending Order of Keys : \")\n",
    "for d in ascsort:\n",
    "    print(d)\n"
   ]
  },
  {
   "cell_type": "code",
   "execution_count": 11,
   "metadata": {},
   "outputs": [
    {
     "name": "stdout",
     "output_type": "stream",
     "text": [
      "Dictionary: {'a': 5, 'b': 10, 'c': 15, 'd': 20, 'e': 25}\n",
      "Sum of values: 75\n"
     ]
    }
   ],
   "source": [
    "my_dict = {'a': 5,'b': 10,'c': 15,'d': 20,'e': 25}\n",
    "sum = sum(my_dict.values())\n",
    "print(\"Sum of values:\", sum)\n"
   ]
  },
  {
   "cell_type": "code",
   "execution_count": 12,
   "metadata": {},
   "outputs": [
    {
     "name": "stdout",
     "output_type": "stream",
     "text": [
      "Ascending order :  {'e': 25, 'd': 20, 'c': 15, 'b': 10, 'a': 5}\n"
     ]
    }
   ],
   "source": [
    "my_dict = {'a': 5,'b': 10,'c': 15,'d': 20,'e': 25}\n",
    "descsort = dict(sorted(my_dict.items(), key=lambda item: item[1], reverse=True))\n",
    "print(\"Ascending order : \",descsort)\n"
   ]
  }
 ],
 "metadata": {
  "kernelspec": {
   "display_name": "Python 3",
   "language": "python",
   "name": "python3"
  },
  "language_info": {
   "codemirror_mode": {
    "name": "ipython",
    "version": 3
   },
   "file_extension": ".py",
   "mimetype": "text/x-python",
   "name": "python",
   "nbconvert_exporter": "python",
   "pygments_lexer": "ipython3",
   "version": "3.10.11"
  },
  "orig_nbformat": 4
 },
 "nbformat": 4,
 "nbformat_minor": 2
}
